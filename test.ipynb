{
 "cells": [
  {
   "cell_type": "code",
   "execution_count": 1,
   "metadata": {},
   "outputs": [
    {
     "name": "stderr",
     "output_type": "stream",
     "text": [
      "[nltk_data] Downloading package stopwords to\n",
      "[nltk_data]     C:\\Users\\abi04\\AppData\\Roaming\\nltk_data...\n",
      "[nltk_data]   Unzipping corpora\\stopwords.zip.\n"
     ]
    },
    {
     "data": {
      "text/plain": [
       "True"
      ]
     },
     "execution_count": 1,
     "metadata": {},
     "output_type": "execute_result"
    }
   ],
   "source": [
    "import nltk\n",
    "nltk.download('stopwords')"
   ]
  },
  {
   "cell_type": "code",
   "execution_count": 2,
   "metadata": {},
   "outputs": [
    {
     "name": "stdout",
     "output_type": "stream",
     "text": [
      "{\"hasn't\", 'theirs', 'than', 'that', 'themselves', 'have', 'their', 'not', \"aren't\", \"you'll\", 'or', 'further', 'more', 'a', \"it's\", 'you', 'wouldn', 'why', 'while', 'shan', 'after', 'below', 'out', 'few', 'did', 'her', 'has', \"that'll\", 'been', 'same', 'didn', \"hadn't\", 'he', 'off', \"doesn't\", 'm', 'to', 'my', 'was', 'whom', 'above', 'some', 'y', \"mustn't\", 'just', 'an', 'his', \"mightn't\", 'itself', 'yours', 'against', 'had', 'how', 'will', \"needn't\", 'shouldn', 'so', 'am', 's', 'yourself', 'hadn', 'too', \"you've\", 'hasn', \"shan't\", 'here', 'them', 'each', 'isn', 'with', 'won', 'having', 'then', 'hers', 'now', 'needn', 'couldn', 'mightn', 'nor', 'i', 'through', 've', 'myself', 'but', 'these', 'weren', 'being', 'very', 'don', 'once', 'doesn', 'himself', 'all', 'll', 'doing', 'the', \"should've\", 'our', 'him', \"you're\", 'were', 'such', \"didn't\", 'in', 'up', 'no', \"isn't\", 'which', 'before', 'over', 'when', 'o', 'where', 'me', 'your', 'should', 'yourselves', 'most', 'down', 'under', 'only', 'of', \"don't\", 'can', 'mustn', 'at', 'ourselves', 'again', 'wasn', 'it', 'own', 'its', 'she', \"wouldn't\", \"haven't\", 'because', 'until', 'we', 'between', 'haven', \"wasn't\", 'd', 'are', 'both', 're', 'those', 'what', 'this', 'who', 'during', 'from', 'into', 'if', 'for', 't', 'other', 'is', \"you'd\", 'on', 'any', 'does', 'as', 'ain', 'by', 'about', \"couldn't\", \"she's\", 'and', 'herself', \"shouldn't\", \"won't\", 'they', 'do', 'ours', \"weren't\", 'aren', 'ma', 'there', 'be'}\n"
     ]
    }
   ],
   "source": [
    "from nltk.corpus import stopwords\n",
    "\n",
    "stop_words = set(stopwords.words('english'))\n",
    "\n",
    "# Example of stopwords in English\n",
    "print(stop_words)\n"
   ]
  },
  {
   "cell_type": "code",
   "execution_count": 6,
   "metadata": {},
   "outputs": [
    {
     "name": "stdout",
     "output_type": "stream",
     "text": [
      "['example', 'sentence', 'removing', 'stopwords.']\n"
     ]
    }
   ],
   "source": [
    "text = \"This is an example sentence for removing stopwords.\"\n",
    "words = text.split()\n",
    "filtered_words = [word for word in words if word.lower() not in stop_words]\n",
    "print(filtered_words)\n"
   ]
  }
 ],
 "metadata": {
  "kernelspec": {
   "display_name": "Python 3",
   "language": "python",
   "name": "python3"
  },
  "language_info": {
   "codemirror_mode": {
    "name": "ipython",
    "version": 3
   },
   "file_extension": ".py",
   "mimetype": "text/x-python",
   "name": "python",
   "nbconvert_exporter": "python",
   "pygments_lexer": "ipython3",
   "version": "3.12.0"
  }
 },
 "nbformat": 4,
 "nbformat_minor": 2
}
